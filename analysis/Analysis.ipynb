{
 "cells": [
  {
   "cell_type": "markdown",
   "metadata": {},
   "source": [
    "## Fetch articles\n",
    "\n",
    "* poems : fetched poems from search with \"poem\" tag - http://trove.nla.gov.au/newspaper/result?l-publictag=poem&q&s=20 (get_poem.py), saved in /data/poems-201604022338.csv\n",
    "* other article : fetched others in random from 'http://trove.nla.gov.au/newspaper/article/11XXX999', saved in data/others-201604030052.csv\n"
   ]
  },
  {
   "cell_type": "markdown",
   "metadata": {},
   "source": [
    "## Read poem"
   ]
  },
  {
   "cell_type": "code",
   "execution_count": 1,
   "metadata": {
    "collapsed": false
   },
   "outputs": [
    {
     "data": {
      "text/html": [
       "<div>\n",
       "<table border=\"1\" class=\"dataframe\">\n",
       "  <thead>\n",
       "    <tr style=\"text-align: right;\">\n",
       "      <th></th>\n",
       "      <th>title</th>\n",
       "      <th>data_h</th>\n",
       "      <th>content</th>\n",
       "      <th>newspaper</th>\n",
       "      <th>data_w</th>\n",
       "      <th>date</th>\n",
       "      <th>data_y</th>\n",
       "      <th>data_x</th>\n",
       "      <th>article_id</th>\n",
       "      <th>page</th>\n",
       "    </tr>\n",
       "  </thead>\n",
       "  <tbody>\n",
       "    <tr>\n",
       "      <th>0</th>\n",
       "      <td>WANDERING THOUGHTS.</td>\n",
       "      <td>75,35,33,36,34,35,33,35,34,34,39,34,34,27,34,3...</td>\n",
       "      <td>WANDERING THOUGHTS. [BY HENRY HALLORAN.]\\nI 0]...</td>\n",
       "      <td>The Sydney Morning Herald</td>\n",
       "      <td>749,476,226,735,710,747,736,577,617,570,701,66...</td>\n",
       "      <td>Fri 4 Feb 1876</td>\n",
       "      <td>3352,3470,3504,3536,3569,3603,3636,3668,3701,3...</td>\n",
       "      <td>3919,3987,4054,3987,3987,3988,3988,3988,3988,3...</td>\n",
       "      <td>13364429</td>\n",
       "      <td>Page 3</td>\n",
       "    </tr>\n",
       "    <tr>\n",
       "      <th>1</th>\n",
       "      <td>SONNET.</td>\n",
       "      <td>26,24,30,33,28,31,26,33,34,34,31,28,33,29,32,3...</td>\n",
       "      <td>SONNET.\\nBY HENRY HALLORAN.\\nI\" Colonel Baker ...</td>\n",
       "      <td>The Sydney Morning Herald</td>\n",
       "      <td>155,321,602,567,480,577,475,578,544,547,692,52...</td>\n",
       "      <td>Mon 17 Sep 1877</td>\n",
       "      <td>5629,5693,5725,5757,5788,5815,5845,5873,5903,5...</td>\n",
       "      <td>4664,4580,4438,4379,4381,4378,4380,4379,4379,4...</td>\n",
       "      <td>13399991</td>\n",
       "      <td>Page 2</td>\n",
       "    </tr>\n",
       "    <tr>\n",
       "      <th>2</th>\n",
       "      <td>FOR EVER.</td>\n",
       "      <td>28,33,30,31,35,30,28,26,35,29,29,34,33,28,32,3...</td>\n",
       "      <td>FOR EVER.\\nBy Henry Kendall.\\nOvT of the Body ...</td>\n",
       "      <td>The Sydney Morning Herald</td>\n",
       "      <td>208,346,338,447,488,380,416,360,498,437,411,44...</td>\n",
       "      <td>Tue 15 Dec 1863</td>\n",
       "      <td>1107,1171,1215,1241,1268,1294,1348,1375,1401,1...</td>\n",
       "      <td>2562,2487,2401,2426,2400,2427,2400,2428,2399,2...</td>\n",
       "      <td>13091165</td>\n",
       "      <td>Page 8</td>\n",
       "    </tr>\n",
       "    <tr>\n",
       "      <th>3</th>\n",
       "      <td>WOOLLI CREEK.</td>\n",
       "      <td>67,37,31,31,42,36,31,29,26,37,47,26,29,31,31,3...</td>\n",
       "      <td>WOOLLI CREEK.\\nBy Henry Kendall.\\nOne I see, w...</td>\n",
       "      <td>The Sydney Morning Herald</td>\n",
       "      <td>863,354,367,432,396,456,479,367,440,411,494,35...</td>\n",
       "      <td>Mon 19 Dec 1864</td>\n",
       "      <td>129,204,244,270,287,322,369,397,422,449,478,52...</td>\n",
       "      <td>4769,5055,4934,4960,4932,4958,4930,4960,4932,4...</td>\n",
       "      <td>13110473</td>\n",
       "      <td>Page 3</td>\n",
       "    </tr>\n",
       "    <tr>\n",
       "      <th>4</th>\n",
       "      <td>ELLEN [?]AY</td>\n",
       "      <td>24,14,34,40,35,45,33,41,34,40,47,39,41,42,43,5...</td>\n",
       "      <td>ELLEN RAY.\\nA quiet song for Ellen--\\nTho pati...</td>\n",
       "      <td>The Sydney Morning Herald</td>\n",
       "      <td>232,245,312,329,373,314,348,341,363,532,486,32...</td>\n",
       "      <td>Tue 10 Jan 1865</td>\n",
       "      <td>5740,5758,5772,5802,5833,5865,5894,5926,5957,5...</td>\n",
       "      <td>518,516,413,443,412,442,412,441,410,442,410,44...</td>\n",
       "      <td>13111902</td>\n",
       "      <td>Page 3</td>\n",
       "    </tr>\n",
       "  </tbody>\n",
       "</table>\n",
       "</div>"
      ],
      "text/plain": [
       "                 title                                             data_h  \\\n",
       "0  WANDERING THOUGHTS.  75,35,33,36,34,35,33,35,34,34,39,34,34,27,34,3...   \n",
       "1              SONNET.  26,24,30,33,28,31,26,33,34,34,31,28,33,29,32,3...   \n",
       "2            FOR EVER.  28,33,30,31,35,30,28,26,35,29,29,34,33,28,32,3...   \n",
       "3        WOOLLI CREEK.  67,37,31,31,42,36,31,29,26,37,47,26,29,31,31,3...   \n",
       "4          ELLEN [?]AY  24,14,34,40,35,45,33,41,34,40,47,39,41,42,43,5...   \n",
       "\n",
       "                                             content  \\\n",
       "0  WANDERING THOUGHTS. [BY HENRY HALLORAN.]\\nI 0]...   \n",
       "1  SONNET.\\nBY HENRY HALLORAN.\\nI\" Colonel Baker ...   \n",
       "2  FOR EVER.\\nBy Henry Kendall.\\nOvT of the Body ...   \n",
       "3  WOOLLI CREEK.\\nBy Henry Kendall.\\nOne I see, w...   \n",
       "4  ELLEN RAY.\\nA quiet song for Ellen--\\nTho pati...   \n",
       "\n",
       "                    newspaper  \\\n",
       "0  The Sydney Morning Herald    \n",
       "1  The Sydney Morning Herald    \n",
       "2  The Sydney Morning Herald    \n",
       "3  The Sydney Morning Herald    \n",
       "4  The Sydney Morning Herald    \n",
       "\n",
       "                                              data_w             date  \\\n",
       "0  749,476,226,735,710,747,736,577,617,570,701,66...   Fri 4 Feb 1876   \n",
       "1  155,321,602,567,480,577,475,578,544,547,692,52...  Mon 17 Sep 1877   \n",
       "2  208,346,338,447,488,380,416,360,498,437,411,44...  Tue 15 Dec 1863   \n",
       "3  863,354,367,432,396,456,479,367,440,411,494,35...  Mon 19 Dec 1864   \n",
       "4  232,245,312,329,373,314,348,341,363,532,486,32...  Tue 10 Jan 1865   \n",
       "\n",
       "                                              data_y  \\\n",
       "0  3352,3470,3504,3536,3569,3603,3636,3668,3701,3...   \n",
       "1  5629,5693,5725,5757,5788,5815,5845,5873,5903,5...   \n",
       "2  1107,1171,1215,1241,1268,1294,1348,1375,1401,1...   \n",
       "3  129,204,244,270,287,322,369,397,422,449,478,52...   \n",
       "4  5740,5758,5772,5802,5833,5865,5894,5926,5957,5...   \n",
       "\n",
       "                                              data_x  article_id    page  \n",
       "0  3919,3987,4054,3987,3987,3988,3988,3988,3988,3...    13364429  Page 3  \n",
       "1  4664,4580,4438,4379,4381,4378,4380,4379,4379,4...    13399991  Page 2  \n",
       "2  2562,2487,2401,2426,2400,2427,2400,2428,2399,2...    13091165  Page 8  \n",
       "3  4769,5055,4934,4960,4932,4958,4930,4960,4932,4...    13110473  Page 3  \n",
       "4  518,516,413,443,412,442,412,441,410,442,410,44...    13111902  Page 3  "
      ]
     },
     "execution_count": 1,
     "metadata": {},
     "output_type": "execute_result"
    }
   ],
   "source": [
    "import numpy as np\n",
    "import pandas as pd\n",
    "\n",
    "poems = pd.read_csv('../data/poems-201604022338.csv')\n",
    "poems.head()"
   ]
  },
  {
   "cell_type": "markdown",
   "metadata": {},
   "source": [
    "## generate signals(features)\n",
    "\n",
    "convert lines, words, x, y, w, h in html input tag into singals"
   ]
  },
  {
   "cell_type": "code",
   "execution_count": 2,
   "metadata": {
    "collapsed": true
   },
   "outputs": [],
   "source": [
    "def count_line(contents):\n",
    "    if not contents: \n",
    "        return 0\n",
    "    lines = contents.split('\\n')\n",
    "    return len(lines)\n",
    "\n",
    "def mean_word(contents):\n",
    "    if not contents: \n",
    "        return 0\n",
    "    lines = contents.split('\\n')\n",
    "    words = [len(line.split(' ')) for line in lines]\n",
    "    return np.mean(words)\n",
    "\n",
    "def total_word(contents):\n",
    "    if not contents:\n",
    "        return 0\n",
    "    lines = contents.split('\\n')\n",
    "    words = [len(line.split(' ')) for line in lines]\n",
    "    return sum(words)\n",
    "\n",
    "def std_w(data_w):\n",
    "    if not data_w:\n",
    "        return 0\n",
    "    ws = map(int, data_w.split(','))\n",
    "    return np.std(ws)\n",
    "\n",
    "def mean_y(data_y):\n",
    "    if not data_y:\n",
    "        return 0\n",
    "    ys = map(int, data_y.split(','))\n",
    "    return np.mean([abs(ys[1:][i] - ys[:-1][i]) for i in range(0, len(ys[1:]))])\n",
    "\n",
    "def mean_h(data_h):\n",
    "    if not data_h:\n",
    "        return 0\n",
    "    hs = map(int, data_h.split(','))\n",
    "    return np.mean(hs)\n",
    "\n",
    "def mean_x(data_x):\n",
    "    if not data_x:\n",
    "        return 0\n",
    "    xs = map(int, data_x.split(','))\n",
    "    x_min = np.min(xs)\n",
    "    return np.mean(map(lambda x:x-x_min, xs))\n",
    "\n",
    "def get_page(page):\n",
    "    return int(page.replace('Page', '').strip())"
   ]
  },
  {
   "cell_type": "code",
   "execution_count": 3,
   "metadata": {
    "collapsed": false
   },
   "outputs": [],
   "source": [
    "def convert_feature(df, target=1):\n",
    "    df['count_line'] = df['content'].apply(count_line)\n",
    "    df['mean_word'] = df['content'].apply(mean_word)\n",
    "    df['total_word'] = df['content'].apply(total_word)\n",
    "    df['std_w'] = df['data_w'].apply(std_w)\n",
    "    df['mean_y'] = df['data_y'].apply(mean_y)\n",
    "    df['mean_h'] = df['data_h'].apply(mean_h)\n",
    "    df['mean_x'] = df['data_x'].apply(mean_x)\n",
    "    df['page_num'] = df['page'].apply(get_page)\n",
    "    df['target'] = target\n",
    "    return df\n"
   ]
  },
  {
   "cell_type": "code",
   "execution_count": 4,
   "metadata": {
    "collapsed": false,
    "scrolled": true
   },
   "outputs": [
    {
     "data": {
      "text/html": [
       "<div>\n",
       "<table border=\"1\" class=\"dataframe\">\n",
       "  <thead>\n",
       "    <tr style=\"text-align: right;\">\n",
       "      <th></th>\n",
       "      <th>title</th>\n",
       "      <th>data_h</th>\n",
       "      <th>content</th>\n",
       "      <th>newspaper</th>\n",
       "      <th>data_w</th>\n",
       "      <th>date</th>\n",
       "      <th>data_y</th>\n",
       "      <th>data_x</th>\n",
       "      <th>article_id</th>\n",
       "      <th>page</th>\n",
       "      <th>count_line</th>\n",
       "      <th>mean_word</th>\n",
       "      <th>total_word</th>\n",
       "      <th>std_w</th>\n",
       "      <th>mean_y</th>\n",
       "      <th>mean_h</th>\n",
       "      <th>mean_x</th>\n",
       "      <th>page_num</th>\n",
       "      <th>target</th>\n",
       "    </tr>\n",
       "  </thead>\n",
       "  <tbody>\n",
       "    <tr>\n",
       "      <th>0</th>\n",
       "      <td>WANDERING THOUGHTS.</td>\n",
       "      <td>75,35,33,36,34,35,33,35,34,34,39,34,34,27,34,3...</td>\n",
       "      <td>WANDERING THOUGHTS. [BY HENRY HALLORAN.]\\nI 0]...</td>\n",
       "      <td>The Sydney Morning Herald</td>\n",
       "      <td>749,476,226,735,710,747,736,577,617,570,701,66...</td>\n",
       "      <td>Fri 4 Feb 1876</td>\n",
       "      <td>3352,3470,3504,3536,3569,3603,3636,3668,3701,3...</td>\n",
       "      <td>3919,3987,4054,3987,3987,3988,3988,3988,3988,3...</td>\n",
       "      <td>13364429</td>\n",
       "      <td>Page 3</td>\n",
       "      <td>76</td>\n",
       "      <td>9.118421</td>\n",
       "      <td>693</td>\n",
       "      <td>106.436665</td>\n",
       "      <td>35.106667</td>\n",
       "      <td>36.013158</td>\n",
       "      <td>72.184211</td>\n",
       "      <td>3</td>\n",
       "      <td>1</td>\n",
       "    </tr>\n",
       "    <tr>\n",
       "      <th>1</th>\n",
       "      <td>SONNET.</td>\n",
       "      <td>26,24,30,33,28,31,26,33,34,34,31,28,33,29,32,3...</td>\n",
       "      <td>SONNET.\\nBY HENRY HALLORAN.\\nI\" Colonel Baker ...</td>\n",
       "      <td>The Sydney Morning Herald</td>\n",
       "      <td>155,321,602,567,480,577,475,578,544,547,692,52...</td>\n",
       "      <td>Mon 17 Sep 1877</td>\n",
       "      <td>5629,5693,5725,5757,5788,5815,5845,5873,5903,5...</td>\n",
       "      <td>4664,4580,4438,4379,4381,4378,4380,4379,4379,4...</td>\n",
       "      <td>13399991</td>\n",
       "      <td>Page 2</td>\n",
       "      <td>18</td>\n",
       "      <td>7.111111</td>\n",
       "      <td>128</td>\n",
       "      <td>137.121420</td>\n",
       "      <td>31.470588</td>\n",
       "      <td>30.333333</td>\n",
       "      <td>57.500000</td>\n",
       "      <td>2</td>\n",
       "      <td>1</td>\n",
       "    </tr>\n",
       "    <tr>\n",
       "      <th>2</th>\n",
       "      <td>FOR EVER.</td>\n",
       "      <td>28,33,30,31,35,30,28,26,35,29,29,34,33,28,32,3...</td>\n",
       "      <td>FOR EVER.\\nBy Henry Kendall.\\nOvT of the Body ...</td>\n",
       "      <td>The Sydney Morning Herald</td>\n",
       "      <td>208,346,338,447,488,380,416,360,498,437,411,44...</td>\n",
       "      <td>Tue 15 Dec 1863</td>\n",
       "      <td>1107,1171,1215,1241,1268,1294,1348,1375,1401,1...</td>\n",
       "      <td>2562,2487,2401,2426,2400,2427,2400,2428,2399,2...</td>\n",
       "      <td>13091165</td>\n",
       "      <td>Page 8</td>\n",
       "      <td>70</td>\n",
       "      <td>6.614286</td>\n",
       "      <td>463</td>\n",
       "      <td>84.350556</td>\n",
       "      <td>33.623188</td>\n",
       "      <td>30.428571</td>\n",
       "      <td>194.700000</td>\n",
       "      <td>8</td>\n",
       "      <td>1</td>\n",
       "    </tr>\n",
       "    <tr>\n",
       "      <th>3</th>\n",
       "      <td>WOOLLI CREEK.</td>\n",
       "      <td>67,37,31,31,42,36,31,29,26,37,47,26,29,31,31,3...</td>\n",
       "      <td>WOOLLI CREEK.\\nBy Henry Kendall.\\nOne I see, w...</td>\n",
       "      <td>The Sydney Morning Herald</td>\n",
       "      <td>863,354,367,432,396,456,479,367,440,411,494,35...</td>\n",
       "      <td>Mon 19 Dec 1864</td>\n",
       "      <td>129,204,244,270,287,322,369,397,422,449,478,52...</td>\n",
       "      <td>4769,5055,4934,4960,4932,4958,4930,4960,4932,4...</td>\n",
       "      <td>13110473</td>\n",
       "      <td>Page 3</td>\n",
       "      <td>195</td>\n",
       "      <td>7.394872</td>\n",
       "      <td>1442</td>\n",
       "      <td>263.602731</td>\n",
       "      <td>34.865979</td>\n",
       "      <td>35.420513</td>\n",
       "      <td>108.235897</td>\n",
       "      <td>3</td>\n",
       "      <td>1</td>\n",
       "    </tr>\n",
       "    <tr>\n",
       "      <th>4</th>\n",
       "      <td>ELLEN [?]AY</td>\n",
       "      <td>24,14,34,40,35,45,33,41,34,40,47,39,41,42,43,5...</td>\n",
       "      <td>ELLEN RAY.\\nA quiet song for Ellen--\\nTho pati...</td>\n",
       "      <td>The Sydney Morning Herald</td>\n",
       "      <td>232,245,312,329,373,314,348,341,363,532,486,32...</td>\n",
       "      <td>Tue 10 Jan 1865</td>\n",
       "      <td>5740,5758,5772,5802,5833,5865,5894,5926,5957,5...</td>\n",
       "      <td>518,516,413,443,412,442,412,441,410,442,410,44...</td>\n",
       "      <td>13111902</td>\n",
       "      <td>Page 3</td>\n",
       "      <td>38</td>\n",
       "      <td>5.315789</td>\n",
       "      <td>202</td>\n",
       "      <td>170.834595</td>\n",
       "      <td>32.526316</td>\n",
       "      <td>41.230769</td>\n",
       "      <td>164.666667</td>\n",
       "      <td>3</td>\n",
       "      <td>1</td>\n",
       "    </tr>\n",
       "  </tbody>\n",
       "</table>\n",
       "</div>"
      ],
      "text/plain": [
       "                 title                                             data_h  \\\n",
       "0  WANDERING THOUGHTS.  75,35,33,36,34,35,33,35,34,34,39,34,34,27,34,3...   \n",
       "1              SONNET.  26,24,30,33,28,31,26,33,34,34,31,28,33,29,32,3...   \n",
       "2            FOR EVER.  28,33,30,31,35,30,28,26,35,29,29,34,33,28,32,3...   \n",
       "3        WOOLLI CREEK.  67,37,31,31,42,36,31,29,26,37,47,26,29,31,31,3...   \n",
       "4          ELLEN [?]AY  24,14,34,40,35,45,33,41,34,40,47,39,41,42,43,5...   \n",
       "\n",
       "                                             content  \\\n",
       "0  WANDERING THOUGHTS. [BY HENRY HALLORAN.]\\nI 0]...   \n",
       "1  SONNET.\\nBY HENRY HALLORAN.\\nI\" Colonel Baker ...   \n",
       "2  FOR EVER.\\nBy Henry Kendall.\\nOvT of the Body ...   \n",
       "3  WOOLLI CREEK.\\nBy Henry Kendall.\\nOne I see, w...   \n",
       "4  ELLEN RAY.\\nA quiet song for Ellen--\\nTho pati...   \n",
       "\n",
       "                    newspaper  \\\n",
       "0  The Sydney Morning Herald    \n",
       "1  The Sydney Morning Herald    \n",
       "2  The Sydney Morning Herald    \n",
       "3  The Sydney Morning Herald    \n",
       "4  The Sydney Morning Herald    \n",
       "\n",
       "                                              data_w             date  \\\n",
       "0  749,476,226,735,710,747,736,577,617,570,701,66...   Fri 4 Feb 1876   \n",
       "1  155,321,602,567,480,577,475,578,544,547,692,52...  Mon 17 Sep 1877   \n",
       "2  208,346,338,447,488,380,416,360,498,437,411,44...  Tue 15 Dec 1863   \n",
       "3  863,354,367,432,396,456,479,367,440,411,494,35...  Mon 19 Dec 1864   \n",
       "4  232,245,312,329,373,314,348,341,363,532,486,32...  Tue 10 Jan 1865   \n",
       "\n",
       "                                              data_y  \\\n",
       "0  3352,3470,3504,3536,3569,3603,3636,3668,3701,3...   \n",
       "1  5629,5693,5725,5757,5788,5815,5845,5873,5903,5...   \n",
       "2  1107,1171,1215,1241,1268,1294,1348,1375,1401,1...   \n",
       "3  129,204,244,270,287,322,369,397,422,449,478,52...   \n",
       "4  5740,5758,5772,5802,5833,5865,5894,5926,5957,5...   \n",
       "\n",
       "                                              data_x  article_id    page  \\\n",
       "0  3919,3987,4054,3987,3987,3988,3988,3988,3988,3...    13364429  Page 3   \n",
       "1  4664,4580,4438,4379,4381,4378,4380,4379,4379,4...    13399991  Page 2   \n",
       "2  2562,2487,2401,2426,2400,2427,2400,2428,2399,2...    13091165  Page 8   \n",
       "3  4769,5055,4934,4960,4932,4958,4930,4960,4932,4...    13110473  Page 3   \n",
       "4  518,516,413,443,412,442,412,441,410,442,410,44...    13111902  Page 3   \n",
       "\n",
       "   count_line  mean_word  total_word       std_w     mean_y     mean_h  \\\n",
       "0          76   9.118421         693  106.436665  35.106667  36.013158   \n",
       "1          18   7.111111         128  137.121420  31.470588  30.333333   \n",
       "2          70   6.614286         463   84.350556  33.623188  30.428571   \n",
       "3         195   7.394872        1442  263.602731  34.865979  35.420513   \n",
       "4          38   5.315789         202  170.834595  32.526316  41.230769   \n",
       "\n",
       "       mean_x  page_num  target  \n",
       "0   72.184211         3       1  \n",
       "1   57.500000         2       1  \n",
       "2  194.700000         8       1  \n",
       "3  108.235897         3       1  \n",
       "4  164.666667         3       1  "
      ]
     },
     "execution_count": 4,
     "metadata": {},
     "output_type": "execute_result"
    }
   ],
   "source": [
    "convert_feature(poems)\n",
    "poems.head()"
   ]
  },
  {
   "cell_type": "markdown",
   "metadata": {},
   "source": [
    "## Read other articles & generate signals(features)"
   ]
  },
  {
   "cell_type": "code",
   "execution_count": 6,
   "metadata": {
    "collapsed": false
   },
   "outputs": [
    {
     "data": {
      "text/html": [
       "<div>\n",
       "<table border=\"1\" class=\"dataframe\">\n",
       "  <thead>\n",
       "    <tr style=\"text-align: right;\">\n",
       "      <th></th>\n",
       "      <th>title</th>\n",
       "      <th>data_h</th>\n",
       "      <th>content</th>\n",
       "      <th>newspaper</th>\n",
       "      <th>data_w</th>\n",
       "      <th>date</th>\n",
       "      <th>data_y</th>\n",
       "      <th>data_x</th>\n",
       "      <th>article_id</th>\n",
       "      <th>page</th>\n",
       "      <th>count_line</th>\n",
       "      <th>mean_word</th>\n",
       "      <th>total_word</th>\n",
       "      <th>std_w</th>\n",
       "      <th>mean_y</th>\n",
       "      <th>mean_h</th>\n",
       "      <th>mean_x</th>\n",
       "      <th>page_num</th>\n",
       "      <th>target</th>\n",
       "    </tr>\n",
       "  </thead>\n",
       "  <tbody>\n",
       "    <tr>\n",
       "      <th>0</th>\n",
       "      <td>Family Notices</td>\n",
       "      <td>37,34,42,39,39,40,46,46,31,34,36,38,37,31,46,6...</td>\n",
       "      <td>FUNERALS.\\nTHE FRIENDS of the late Mr. JAMES H...</td>\n",
       "      <td>The Sydney Morning Herald</td>\n",
       "      <td>257,848,837,855,852,848,850,852,852,850,850,85...</td>\n",
       "      <td>Sat 16 Sep 1871</td>\n",
       "      <td>248,311,337,372,404,437,468,505,548,579,610,64...</td>\n",
       "      <td>687,399,411,400,401,402,401,403,405,404,401,40...</td>\n",
       "      <td>13244999</td>\n",
       "      <td>Page 12</td>\n",
       "      <td>92</td>\n",
       "      <td>7.641304</td>\n",
       "      <td>703</td>\n",
       "      <td>115.974121</td>\n",
       "      <td>33.434783</td>\n",
       "      <td>38.333333</td>\n",
       "      <td>42.354839</td>\n",
       "      <td>12</td>\n",
       "      <td>0</td>\n",
       "    </tr>\n",
       "    <tr>\n",
       "      <th>1</th>\n",
       "      <td>LIQUORS.</td>\n",
       "      <td>40,30,44,22,29,27,27,27,30,29,27,28,28,27,30,2...</td>\n",
       "      <td>I LIQUORS., .\",'; 'I\\nI [l\\ W. C0SEN8' CIRCUXA...</td>\n",
       "      <td>The Sydney Morning Herald</td>\n",
       "      <td>891,891,891,806,833,830,833,833,820,805,832,83...</td>\n",
       "      <td>Sat 7 Jun 1873</td>\n",
       "      <td>4296,4336,4352,4396,4416,4444,4470,4497,4520,4...</td>\n",
       "      <td>2991,2990,2991,3047,3020,3022,3020,3020,3021,3...</td>\n",
       "      <td>13321999</td>\n",
       "      <td>Page 8</td>\n",
       "      <td>33</td>\n",
       "      <td>9.333333</td>\n",
       "      <td>308</td>\n",
       "      <td>28.421076</td>\n",
       "      <td>26.687500</td>\n",
       "      <td>29.121212</td>\n",
       "      <td>31.515152</td>\n",
       "      <td>8</td>\n",
       "      <td>0</td>\n",
       "    </tr>\n",
       "    <tr>\n",
       "      <th>2</th>\n",
       "      <td>Family Notices</td>\n",
       "      <td>41,37,37,29,28,37,35,29,35,34,36,26,35,35,33,3...</td>\n",
       "      <td>In order to guard against imposition, notices\\...</td>\n",
       "      <td>The Mercury</td>\n",
       "      <td>624,598,599,294,136,624,600,284,628,601,599,20...</td>\n",
       "      <td>Sat 20 May 1893</td>\n",
       "      <td>774,799,823,854,896,922,950,985,1006,1034,1073...</td>\n",
       "      <td>374,400,400,398,618,372,399,402,372,399,398,58...</td>\n",
       "      <td>13286999</td>\n",
       "      <td>Page 1</td>\n",
       "      <td>40</td>\n",
       "      <td>5.100000</td>\n",
       "      <td>204</td>\n",
       "      <td>160.432938</td>\n",
       "      <td>29.666667</td>\n",
       "      <td>34.150000</td>\n",
       "      <td>52.150000</td>\n",
       "      <td>1</td>\n",
       "      <td>0</td>\n",
       "    </tr>\n",
       "    <tr>\n",
       "      <th>3</th>\n",
       "      <td>Advertising</td>\n",
       "      <td>31,28,30,28,28,30,28,28,27,33,32,28,22,29,22,2...</td>\n",
       "      <td>ABSTBACT OF SALES BY AUCTION THIS DAY.!\\nGIBSO...</td>\n",
       "      <td>The Sydney Morning Herald</td>\n",
       "      <td>847,845,845,794,844,793,846,794,792,845,794,83...</td>\n",
       "      <td>Wed 20 Aug 1873</td>\n",
       "      <td>2141,2213,2238,2267,2292,2316,2344,2371,2397,2...</td>\n",
       "      <td>2867,2868,2869,2920,2870,2920,2868,2920,2922,2...</td>\n",
       "      <td>13322999</td>\n",
       "      <td>Page 5</td>\n",
       "      <td>29</td>\n",
       "      <td>7.413793</td>\n",
       "      <td>215</td>\n",
       "      <td>185.955060</td>\n",
       "      <td>27.857143</td>\n",
       "      <td>28.965517</td>\n",
       "      <td>23.896552</td>\n",
       "      <td>5</td>\n",
       "      <td>0</td>\n",
       "    </tr>\n",
       "    <tr>\n",
       "      <th>4</th>\n",
       "      <td>IMPORTS.—AUGUST 7.</td>\n",
       "      <td>26,36</td>\n",
       "      <td>?. IMFORTS.-AUOUST 7.\\nPrima Donna, from Tome ...</td>\n",
       "      <td>The Sydney Morning Herald</td>\n",
       "      <td>336,740</td>\n",
       "      <td>Wed 8 Aug 1866</td>\n",
       "      <td>2206,2229</td>\n",
       "      <td>448,225</td>\n",
       "      <td>13134999</td>\n",
       "      <td>Page 4</td>\n",
       "      <td>2</td>\n",
       "      <td>6.500000</td>\n",
       "      <td>13</td>\n",
       "      <td>202.000000</td>\n",
       "      <td>23.000000</td>\n",
       "      <td>31.000000</td>\n",
       "      <td>111.500000</td>\n",
       "      <td>4</td>\n",
       "      <td>0</td>\n",
       "    </tr>\n",
       "  </tbody>\n",
       "</table>\n",
       "</div>"
      ],
      "text/plain": [
       "                title                                             data_h  \\\n",
       "0      Family Notices  37,34,42,39,39,40,46,46,31,34,36,38,37,31,46,6...   \n",
       "1            LIQUORS.  40,30,44,22,29,27,27,27,30,29,27,28,28,27,30,2...   \n",
       "2      Family Notices  41,37,37,29,28,37,35,29,35,34,36,26,35,35,33,3...   \n",
       "3         Advertising  31,28,30,28,28,30,28,28,27,33,32,28,22,29,22,2...   \n",
       "4  IMPORTS.—AUGUST 7.                                              26,36   \n",
       "\n",
       "                                             content  \\\n",
       "0  FUNERALS.\\nTHE FRIENDS of the late Mr. JAMES H...   \n",
       "1  I LIQUORS., .\",'; 'I\\nI [l\\ W. C0SEN8' CIRCUXA...   \n",
       "2  In order to guard against imposition, notices\\...   \n",
       "3  ABSTBACT OF SALES BY AUCTION THIS DAY.!\\nGIBSO...   \n",
       "4  ?. IMFORTS.-AUOUST 7.\\nPrima Donna, from Tome ...   \n",
       "\n",
       "                    newspaper  \\\n",
       "0  The Sydney Morning Herald    \n",
       "1  The Sydney Morning Herald    \n",
       "2                The Mercury    \n",
       "3  The Sydney Morning Herald    \n",
       "4  The Sydney Morning Herald    \n",
       "\n",
       "                                              data_w             date  \\\n",
       "0  257,848,837,855,852,848,850,852,852,850,850,85...  Sat 16 Sep 1871   \n",
       "1  891,891,891,806,833,830,833,833,820,805,832,83...   Sat 7 Jun 1873   \n",
       "2  624,598,599,294,136,624,600,284,628,601,599,20...  Sat 20 May 1893   \n",
       "3  847,845,845,794,844,793,846,794,792,845,794,83...  Wed 20 Aug 1873   \n",
       "4                                            336,740   Wed 8 Aug 1866   \n",
       "\n",
       "                                              data_y  \\\n",
       "0  248,311,337,372,404,437,468,505,548,579,610,64...   \n",
       "1  4296,4336,4352,4396,4416,4444,4470,4497,4520,4...   \n",
       "2  774,799,823,854,896,922,950,985,1006,1034,1073...   \n",
       "3  2141,2213,2238,2267,2292,2316,2344,2371,2397,2...   \n",
       "4                                          2206,2229   \n",
       "\n",
       "                                              data_x  article_id     page  \\\n",
       "0  687,399,411,400,401,402,401,403,405,404,401,40...    13244999  Page 12   \n",
       "1  2991,2990,2991,3047,3020,3022,3020,3020,3021,3...    13321999   Page 8   \n",
       "2  374,400,400,398,618,372,399,402,372,399,398,58...    13286999   Page 1   \n",
       "3  2867,2868,2869,2920,2870,2920,2868,2920,2922,2...    13322999   Page 5   \n",
       "4                                            448,225    13134999   Page 4   \n",
       "\n",
       "   count_line  mean_word  total_word       std_w     mean_y     mean_h  \\\n",
       "0          92   7.641304         703  115.974121  33.434783  38.333333   \n",
       "1          33   9.333333         308   28.421076  26.687500  29.121212   \n",
       "2          40   5.100000         204  160.432938  29.666667  34.150000   \n",
       "3          29   7.413793         215  185.955060  27.857143  28.965517   \n",
       "4           2   6.500000          13  202.000000  23.000000  31.000000   \n",
       "\n",
       "       mean_x  page_num  target  \n",
       "0   42.354839        12       0  \n",
       "1   31.515152         8       0  \n",
       "2   52.150000         1       0  \n",
       "3   23.896552         5       0  \n",
       "4  111.500000         4       0  "
      ]
     },
     "execution_count": 6,
     "metadata": {},
     "output_type": "execute_result"
    }
   ],
   "source": [
    "others = pd.read_csv('../data/others-201604030052.csv')\n",
    "# others\n",
    "convert_feature(others, target=0)\n",
    "others.head()"
   ]
  },
  {
   "cell_type": "markdown",
   "metadata": {},
   "source": [
    "## Fetch signals(features) before applying algorithm"
   ]
  },
  {
   "cell_type": "code",
   "execution_count": 7,
   "metadata": {
    "collapsed": false
   },
   "outputs": [],
   "source": [
    "features = ['count_line', 'mean_word', 'total_word', 'std_w', 'mean_y', 'mean_h', 'mean_x', 'page_num']"
   ]
  },
  {
   "cell_type": "code",
   "execution_count": 8,
   "metadata": {
    "collapsed": false
   },
   "outputs": [],
   "source": [
    "other_x = others[features].values"
   ]
  },
  {
   "cell_type": "code",
   "execution_count": 9,
   "metadata": {
    "collapsed": false
   },
   "outputs": [],
   "source": [
    "other_x[other_x > 1000] = 1000\n",
    "other_x[np.isnan(other_x)] = 0"
   ]
  },
  {
   "cell_type": "code",
   "execution_count": 10,
   "metadata": {
    "collapsed": false
   },
   "outputs": [],
   "source": [
    "poem_x = poems[features].values"
   ]
  },
  {
   "cell_type": "code",
   "execution_count": 31,
   "metadata": {
    "collapsed": false
   },
   "outputs": [],
   "source": [
    "X = np.concatenate((other_x, poem_x), axis=0)"
   ]
  },
  {
   "cell_type": "code",
   "execution_count": 12,
   "metadata": {
    "collapsed": false
   },
   "outputs": [],
   "source": [
    "other_y = others[['target']].values\n",
    "poem_y = poems[['target']].values\n",
    "y = np.concatenate((other_y, poem_y), axis=0)"
   ]
  },
  {
   "cell_type": "code",
   "execution_count": 13,
   "metadata": {
    "collapsed": false
   },
   "outputs": [],
   "source": [
    "y = y.flatten()"
   ]
  },
  {
   "cell_type": "code",
   "execution_count": 14,
   "metadata": {
    "collapsed": true
   },
   "outputs": [],
   "source": [
    "from sklearn.feature_extraction.text import CountVectorizer\n",
    "from sklearn.feature_extraction.text import TfidfTransformer\n",
    "from sklearn.cross_validation import cross_val_score, KFold\n",
    "from sklearn import decomposition\n",
    "from sklearn.metrics.pairwise import euclidean_distances\n",
    "from sklearn.naive_bayes import MultinomialNB, BernoulliNB\n",
    "from sklearn.svm import SVC\n",
    "from sklearn.linear_model import SGDClassifier\n",
    "from sklearn.cluster import KMeans, MiniBatchKMeans\n",
    "from sklearn.decomposition import TruncatedSVD\n",
    "from sklearn import metrics\n",
    "from sklearn.linear_model import LogisticRegression\n",
    "from sklearn.ensemble import RandomForestClassifier\n",
    "from sklearn.linear_model import LogisticRegression\n",
    "from sklearn.grid_search import GridSearchCV\n",
    "from sklearn.pipeline import Pipeline\n",
    "from sklearn.decomposition import PCA"
   ]
  },
  {
   "cell_type": "markdown",
   "metadata": {},
   "source": [
    "## Applying different algoriths with only newspaper format signal to check  accurcy"
   ]
  },
  {
   "cell_type": "markdown",
   "metadata": {},
   "source": [
    "### 1. Applying SVC Classifier(Support Vector Machine)"
   ]
  },
  {
   "cell_type": "code",
   "execution_count": 15,
   "metadata": {
    "collapsed": false
   },
   "outputs": [
    {
     "name": "stdout",
     "output_type": "stream",
     "text": [
      "Accuracy: 0.61 (+/- 0.18)\n"
     ]
    }
   ],
   "source": [
    "svc = SGDClassifier()\n",
    "svc.fit(X, y)\n",
    "scores = cross_val_score(svc, X, y, cv=5)\n",
    "print(\"Accuracy: %0.2f (+/- %0.2f)\" % (scores.mean(), scores.std() * 2))"
   ]
  },
  {
   "cell_type": "markdown",
   "metadata": {},
   "source": [
    "### 2. Appliying Random Forest Classifier"
   ]
  },
  {
   "cell_type": "code",
   "execution_count": 16,
   "metadata": {
    "collapsed": false
   },
   "outputs": [
    {
     "name": "stdout",
     "output_type": "stream",
     "text": [
      "Accuracy: 0.88 (+/- 0.13)\n"
     ]
    }
   ],
   "source": [
    "forest = RandomForestClassifier()\n",
    "forest.fit(X, y)\n",
    "scores = cross_val_score(forest, X, y, cv=5)\n",
    "print(\"Accuracy: %0.2f (+/- %0.2f)\" % (scores.mean(), scores.std() * 2))"
   ]
  },
  {
   "cell_type": "markdown",
   "metadata": {},
   "source": [
    "### 3. Appliying Logistic Regression Classifier"
   ]
  },
  {
   "cell_type": "code",
   "execution_count": 78,
   "metadata": {
    "collapsed": false
   },
   "outputs": [
    {
     "name": "stdout",
     "output_type": "stream",
     "text": [
      "Accuracy: 0.73 (+/- 0.21)\n"
     ]
    }
   ],
   "source": [
    "logistic = LogisticRegression()\n",
    "logistic.fit(X, y)\n",
    "scores = cross_val_score(logistic, X, y, cv=5)\n",
    "print(\"Accuracy: %0.2f (+/- %0.2f)\" % (scores.mean(), scores.std() * 2))"
   ]
  },
  {
   "cell_type": "markdown",
   "metadata": {},
   "source": [
    "### 4. Appliying Naive Bayes Classifier"
   ]
  },
  {
   "cell_type": "code",
   "execution_count": 79,
   "metadata": {
    "collapsed": false
   },
   "outputs": [
    {
     "name": "stdout",
     "output_type": "stream",
     "text": [
      "Accuracy: 0.61 (+/- 0.17)\n"
     ]
    }
   ],
   "source": [
    "nb = MultinomialNB()\n",
    "nb.fit(X, y)\n",
    "scores = cross_val_score(nb, X, y, cv=5)\n",
    "print(\"Accuracy: %0.2f (+/- %0.2f)\" % (scores.mean(), scores.std() * 2))"
   ]
  },
  {
   "cell_type": "markdown",
   "metadata": {},
   "source": [
    "## Find optimization in Random Forest Classifier which is the best classifier"
   ]
  },
  {
   "cell_type": "code",
   "execution_count": 32,
   "metadata": {
    "collapsed": false
   },
   "outputs": [
    {
     "name": "stdout",
     "output_type": "stream",
     "text": [
      "('Score : ', 0.914572864321608)\n",
      "clf__criterion: 'entropy'\n",
      "clf__max_features: 'sqrt'\n",
      "clf__n_estimators: 35\n"
     ]
    }
   ],
   "source": [
    "clf = Pipeline([#('pca', PCA()),\n",
    "                    ('clf', RandomForestClassifier()),\n",
    "                ])\n",
    "\n",
    "parameters = {#'pca__n_components': (3, 4, 5, 6, 7),\n",
    "                'clf__n_estimators': (5, 10, 15, 20, 25, 30, 35, 40, 45, 50, 60, 70), \n",
    "                'clf__criterion': ('gini', 'entropy'),\n",
    "                'clf__max_features': ('auto', 'sqrt', 'log2')\n",
    "             }    \n",
    "\n",
    "gs_clf = GridSearchCV(clf, parameters, cv=5)\n",
    "gs_clf.fit(X, y)\n",
    "\n",
    "best_parameters, score, _ = max(gs_clf.grid_scores_, key=lambda x: x[1])\n",
    "print('Score : ', score)\n",
    "for param_name in sorted(parameters.keys()):\n",
    "    print(\"%s: %r\" % (param_name, best_parameters[param_name]))\n"
   ]
  },
  {
   "cell_type": "markdown",
   "metadata": {},
   "source": [
    "## Find important singals  "
   ]
  },
  {
   "cell_type": "code",
   "execution_count": 22,
   "metadata": {
    "collapsed": false
   },
   "outputs": [
    {
     "name": "stdout",
     "output_type": "stream",
     "text": [
      "[(0.174, 'mean_word'), (0.1538, 'page_num'), (0.1484, 'mean_x'), (0.1398, 'total_word'), (0.1358, 'count_line'), (0.1002, 'mean_y'), (0.0764, 'mean_h'), (0.0716, 'std_w')]\n"
     ]
    }
   ],
   "source": [
    "clf = RandomForestClassifier(n_estimators=50, max_features='sqrt', criterion='gini')\n",
    "clf.fit(X, y)\n",
    "\n",
    "print sorted(zip(map(lambda x: round(x, 4), clf.feature_importances_), features), reverse=True)"
   ]
  },
  {
   "cell_type": "markdown",
   "metadata": {},
   "source": [
    "#### Best signals\n",
    "\n",
    "1. mean word per line\n",
    "1. newspaper page number\n",
    "1. indent x"
   ]
  },
  {
   "cell_type": "markdown",
   "metadata": {},
   "source": [
    "### Apply Naive Bayes algorithm on poem and other articles"
   ]
  },
  {
   "cell_type": "code",
   "execution_count": 26,
   "metadata": {
    "collapsed": false
   },
   "outputs": [],
   "source": [
    "X = np.concatenate((poems['content'].values, others['content'].values), axis=0)\n",
    "\n",
    "vectorizer = CountVectorizer(max_df=10, min_df=1)\n",
    "X = vectorizer.fit_transform(X)\n",
    "X = TfidfTransformer().fit_transform(X)\n",
    "  "
   ]
  },
  {
   "cell_type": "code",
   "execution_count": 27,
   "metadata": {
    "collapsed": false
   },
   "outputs": [
    {
     "name": "stdout",
     "output_type": "stream",
     "text": [
      "Accuracy: 0.91 (+/- 0.07)\n"
     ]
    }
   ],
   "source": [
    "nb = MultinomialNB()\n",
    "nb.fit(X, y)\n",
    "\n",
    "scores = cross_val_score(nb, X, y, cv=5)\n",
    "print(\"Accuracy: %0.2f (+/- %0.2f)\" % (scores.mean(), scores.std() * 2))"
   ]
  },
  {
   "cell_type": "code",
   "execution_count": 28,
   "metadata": {
    "collapsed": false
   },
   "outputs": [
    {
     "name": "stdout",
     "output_type": "stream",
     "text": [
      "('Score : ', 0.90954773869346739)\n",
      "clf__alpha: 0.3\n",
      "clf__fit_prior: True\n"
     ]
    }
   ],
   "source": [
    "clf = Pipeline([\n",
    "#                 ('vect', CountVectorizer()),\n",
    "#                 ('tfidf', TfidfTransformer()),\n",
    "                ('clf', MultinomialNB()),\n",
    "            ])\n",
    "    \n",
    "parameters = {\n",
    "#                 'tfidf__use_idf': (True, False),\n",
    "                'clf__alpha': (0,1, 0.2, 0.3, 0.4, 0.5, 0.6, 0.7, 0.8, 0.9, 1.0, 1.1, 1.2, 1.3, 1.4), \n",
    "                'clf__fit_prior':(True, False)}    \n",
    "    \n",
    "    \n",
    "gs_clf = GridSearchCV(clf, parameters, cv=5)\n",
    "\n",
    "gs_clf.fit(X, y)\n",
    "\n",
    "best_parameters, score, _ = max(gs_clf.grid_scores_, key=lambda x: x[1])\n",
    "print('Score : ', score)\n",
    "for param_name in sorted(parameters.keys()):\n",
    "    print(\"%s: %r\" % (param_name, best_parameters[param_name]))"
   ]
  },
  {
   "cell_type": "markdown",
   "metadata": {},
   "source": [
    "### Combine the two best classifiers(RandomForest classifier on newspaper format and Naive Bayes on Content)"
   ]
  }
 ],
 "metadata": {
  "kernelspec": {
   "display_name": "Python 2",
   "language": "python",
   "name": "python2"
  },
  "language_info": {
   "codemirror_mode": {
    "name": "ipython",
    "version": 2
   },
   "file_extension": ".py",
   "mimetype": "text/x-python",
   "name": "python",
   "nbconvert_exporter": "python",
   "pygments_lexer": "ipython2",
   "version": "2.7.10"
  }
 },
 "nbformat": 4,
 "nbformat_minor": 0
}
